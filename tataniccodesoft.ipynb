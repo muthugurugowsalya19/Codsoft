{
  "nbformat": 4,
  "nbformat_minor": 0,
  "metadata": {
    "colab": {
      "provenance": [],
      "authorship_tag": "ABX9TyMRFCHsT7gyUE2y2FqzBzhG",
      "include_colab_link": true
    },
    "kernelspec": {
      "name": "python3",
      "display_name": "Python 3"
    },
    "language_info": {
      "name": "python"
    }
  },
  "cells": [
    {
      "cell_type": "markdown",
      "metadata": {
        "id": "view-in-github",
        "colab_type": "text"
      },
      "source": [
        "<a href=\"https://colab.research.google.com/github/muthugurugowsalya19/Codsoft/blob/main/tataniccodesoft.ipynb\" target=\"_parent\"><img src=\"https://colab.research.google.com/assets/colab-badge.svg\" alt=\"Open In Colab\"/></a>"
      ]
    },
    {
      "cell_type": "code",
      "execution_count": null,
      "metadata": {
        "colab": {
          "base_uri": "https://localhost:8080/"
        },
        "id": "VlmODtFimMBr",
        "outputId": "35a45d64-7b64-426e-baa3-fc0f709eca75"
      },
      "outputs": [
        {
          "output_type": "stream",
          "name": "stdout",
          "text": [
            "****************************DATA LOADING************************************************\n",
            "     PassengerId  Pclass                                          Name  \\\n",
            "0            892       3                              Kelly, Mr. James   \n",
            "1            893       3              Wilkes, Mrs. James (Ellen Needs)   \n",
            "2            894       2                     Myles, Mr. Thomas Francis   \n",
            "3            895       3                              Wirz, Mr. Albert   \n",
            "4            896       3  Hirvonen, Mrs. Alexander (Helga E Lindqvist)   \n",
            "..           ...     ...                                           ...   \n",
            "413         1305       3                            Spector, Mr. Woolf   \n",
            "414         1306       1                  Oliva y Ocana, Dona. Fermina   \n",
            "415         1307       3                  Saether, Mr. Simon Sivertsen   \n",
            "416         1308       3                           Ware, Mr. Frederick   \n",
            "417         1309       3                      Peter, Master. Michael J   \n",
            "\n",
            "        Sex   Age  SibSp  Parch              Ticket      Fare Cabin Embarked  \\\n",
            "0      male  34.5      0      0              330911    7.8292   NaN        Q   \n",
            "1    female  47.0      1      0              363272    7.0000   NaN        S   \n",
            "2      male  62.0      0      0              240276    9.6875   NaN        Q   \n",
            "3      male  27.0      0      0              315154    8.6625   NaN        S   \n",
            "4    female  22.0      1      1             3101298   12.2875   NaN        S   \n",
            "..      ...   ...    ...    ...                 ...       ...   ...      ...   \n",
            "413    male   NaN      0      0           A.5. 3236    8.0500   NaN        S   \n",
            "414  female  39.0      0      0            PC 17758  108.9000  C105        C   \n",
            "415    male  38.5      0      0  SOTON/O.Q. 3101262    7.2500   NaN        S   \n",
            "416    male   NaN      0      0              359309    8.0500   NaN        S   \n",
            "417    male   NaN      1      1                2668   22.3583   NaN        C   \n",
            "\n",
            "     Survived  \n",
            "0           0  \n",
            "1           1  \n",
            "2           0  \n",
            "3           0  \n",
            "4           1  \n",
            "..        ...  \n",
            "413         0  \n",
            "414         1  \n",
            "415         0  \n",
            "416         0  \n",
            "417         0  \n",
            "\n",
            "[418 rows x 12 columns]\n"
          ]
        }
      ],
      "source": [
        "print(\"****************************DATA LOADING************************************************\")\n",
        "import pandas as pd\n",
        "a=pd.read_csv(\"titanic.csv\")\n",
        "print(a)"
      ]
    },
    {
      "cell_type": "code",
      "source": [
        "print(\"******************DATA PRE-PROCESSING*********************************\")\n",
        "a.isna()"
      ],
      "metadata": {
        "colab": {
          "base_uri": "https://localhost:8080/",
          "height": 441
        },
        "id": "WqMFF27pmiof",
        "outputId": "165da013-8335-4dcd-cdd2-fd32c118080c"
      },
      "execution_count": null,
      "outputs": [
        {
          "output_type": "stream",
          "name": "stdout",
          "text": [
            "******************DATA PRE-PROCESSING*********************************\n"
          ]
        },
        {
          "output_type": "execute_result",
          "data": {
            "text/plain": [
              "     PassengerId  Pclass   Name    Sex    Age  SibSp  Parch  Ticket   Fare  \\\n",
              "0          False   False  False  False  False  False  False   False  False   \n",
              "1          False   False  False  False  False  False  False   False  False   \n",
              "2          False   False  False  False  False  False  False   False  False   \n",
              "3          False   False  False  False  False  False  False   False  False   \n",
              "4          False   False  False  False  False  False  False   False  False   \n",
              "..           ...     ...    ...    ...    ...    ...    ...     ...    ...   \n",
              "413        False   False  False  False   True  False  False   False  False   \n",
              "414        False   False  False  False  False  False  False   False  False   \n",
              "415        False   False  False  False  False  False  False   False  False   \n",
              "416        False   False  False  False   True  False  False   False  False   \n",
              "417        False   False  False  False   True  False  False   False  False   \n",
              "\n",
              "     Cabin  Embarked  Survived  \n",
              "0     True     False     False  \n",
              "1     True     False     False  \n",
              "2     True     False     False  \n",
              "3     True     False     False  \n",
              "4     True     False     False  \n",
              "..     ...       ...       ...  \n",
              "413   True     False     False  \n",
              "414  False     False     False  \n",
              "415   True     False     False  \n",
              "416   True     False     False  \n",
              "417   True     False     False  \n",
              "\n",
              "[418 rows x 12 columns]"
            ],
            "text/html": [
              "\n",
              "  <div id=\"df-7b2559c8-676a-4596-88b2-83dd008afbf2\" class=\"colab-df-container\">\n",
              "    <div>\n",
              "<style scoped>\n",
              "    .dataframe tbody tr th:only-of-type {\n",
              "        vertical-align: middle;\n",
              "    }\n",
              "\n",
              "    .dataframe tbody tr th {\n",
              "        vertical-align: top;\n",
              "    }\n",
              "\n",
              "    .dataframe thead th {\n",
              "        text-align: right;\n",
              "    }\n",
              "</style>\n",
              "<table border=\"1\" class=\"dataframe\">\n",
              "  <thead>\n",
              "    <tr style=\"text-align: right;\">\n",
              "      <th></th>\n",
              "      <th>PassengerId</th>\n",
              "      <th>Pclass</th>\n",
              "      <th>Name</th>\n",
              "      <th>Sex</th>\n",
              "      <th>Age</th>\n",
              "      <th>SibSp</th>\n",
              "      <th>Parch</th>\n",
              "      <th>Ticket</th>\n",
              "      <th>Fare</th>\n",
              "      <th>Cabin</th>\n",
              "      <th>Embarked</th>\n",
              "      <th>Survived</th>\n",
              "    </tr>\n",
              "  </thead>\n",
              "  <tbody>\n",
              "    <tr>\n",
              "      <th>0</th>\n",
              "      <td>False</td>\n",
              "      <td>False</td>\n",
              "      <td>False</td>\n",
              "      <td>False</td>\n",
              "      <td>False</td>\n",
              "      <td>False</td>\n",
              "      <td>False</td>\n",
              "      <td>False</td>\n",
              "      <td>False</td>\n",
              "      <td>True</td>\n",
              "      <td>False</td>\n",
              "      <td>False</td>\n",
              "    </tr>\n",
              "    <tr>\n",
              "      <th>1</th>\n",
              "      <td>False</td>\n",
              "      <td>False</td>\n",
              "      <td>False</td>\n",
              "      <td>False</td>\n",
              "      <td>False</td>\n",
              "      <td>False</td>\n",
              "      <td>False</td>\n",
              "      <td>False</td>\n",
              "      <td>False</td>\n",
              "      <td>True</td>\n",
              "      <td>False</td>\n",
              "      <td>False</td>\n",
              "    </tr>\n",
              "    <tr>\n",
              "      <th>2</th>\n",
              "      <td>False</td>\n",
              "      <td>False</td>\n",
              "      <td>False</td>\n",
              "      <td>False</td>\n",
              "      <td>False</td>\n",
              "      <td>False</td>\n",
              "      <td>False</td>\n",
              "      <td>False</td>\n",
              "      <td>False</td>\n",
              "      <td>True</td>\n",
              "      <td>False</td>\n",
              "      <td>False</td>\n",
              "    </tr>\n",
              "    <tr>\n",
              "      <th>3</th>\n",
              "      <td>False</td>\n",
              "      <td>False</td>\n",
              "      <td>False</td>\n",
              "      <td>False</td>\n",
              "      <td>False</td>\n",
              "      <td>False</td>\n",
              "      <td>False</td>\n",
              "      <td>False</td>\n",
              "      <td>False</td>\n",
              "      <td>True</td>\n",
              "      <td>False</td>\n",
              "      <td>False</td>\n",
              "    </tr>\n",
              "    <tr>\n",
              "      <th>4</th>\n",
              "      <td>False</td>\n",
              "      <td>False</td>\n",
              "      <td>False</td>\n",
              "      <td>False</td>\n",
              "      <td>False</td>\n",
              "      <td>False</td>\n",
              "      <td>False</td>\n",
              "      <td>False</td>\n",
              "      <td>False</td>\n",
              "      <td>True</td>\n",
              "      <td>False</td>\n",
              "      <td>False</td>\n",
              "    </tr>\n",
              "    <tr>\n",
              "      <th>...</th>\n",
              "      <td>...</td>\n",
              "      <td>...</td>\n",
              "      <td>...</td>\n",
              "      <td>...</td>\n",
              "      <td>...</td>\n",
              "      <td>...</td>\n",
              "      <td>...</td>\n",
              "      <td>...</td>\n",
              "      <td>...</td>\n",
              "      <td>...</td>\n",
              "      <td>...</td>\n",
              "      <td>...</td>\n",
              "    </tr>\n",
              "    <tr>\n",
              "      <th>413</th>\n",
              "      <td>False</td>\n",
              "      <td>False</td>\n",
              "      <td>False</td>\n",
              "      <td>False</td>\n",
              "      <td>True</td>\n",
              "      <td>False</td>\n",
              "      <td>False</td>\n",
              "      <td>False</td>\n",
              "      <td>False</td>\n",
              "      <td>True</td>\n",
              "      <td>False</td>\n",
              "      <td>False</td>\n",
              "    </tr>\n",
              "    <tr>\n",
              "      <th>414</th>\n",
              "      <td>False</td>\n",
              "      <td>False</td>\n",
              "      <td>False</td>\n",
              "      <td>False</td>\n",
              "      <td>False</td>\n",
              "      <td>False</td>\n",
              "      <td>False</td>\n",
              "      <td>False</td>\n",
              "      <td>False</td>\n",
              "      <td>False</td>\n",
              "      <td>False</td>\n",
              "      <td>False</td>\n",
              "    </tr>\n",
              "    <tr>\n",
              "      <th>415</th>\n",
              "      <td>False</td>\n",
              "      <td>False</td>\n",
              "      <td>False</td>\n",
              "      <td>False</td>\n",
              "      <td>False</td>\n",
              "      <td>False</td>\n",
              "      <td>False</td>\n",
              "      <td>False</td>\n",
              "      <td>False</td>\n",
              "      <td>True</td>\n",
              "      <td>False</td>\n",
              "      <td>False</td>\n",
              "    </tr>\n",
              "    <tr>\n",
              "      <th>416</th>\n",
              "      <td>False</td>\n",
              "      <td>False</td>\n",
              "      <td>False</td>\n",
              "      <td>False</td>\n",
              "      <td>True</td>\n",
              "      <td>False</td>\n",
              "      <td>False</td>\n",
              "      <td>False</td>\n",
              "      <td>False</td>\n",
              "      <td>True</td>\n",
              "      <td>False</td>\n",
              "      <td>False</td>\n",
              "    </tr>\n",
              "    <tr>\n",
              "      <th>417</th>\n",
              "      <td>False</td>\n",
              "      <td>False</td>\n",
              "      <td>False</td>\n",
              "      <td>False</td>\n",
              "      <td>True</td>\n",
              "      <td>False</td>\n",
              "      <td>False</td>\n",
              "      <td>False</td>\n",
              "      <td>False</td>\n",
              "      <td>True</td>\n",
              "      <td>False</td>\n",
              "      <td>False</td>\n",
              "    </tr>\n",
              "  </tbody>\n",
              "</table>\n",
              "<p>418 rows × 12 columns</p>\n",
              "</div>\n",
              "    <div class=\"colab-df-buttons\">\n",
              "\n",
              "  <div class=\"colab-df-container\">\n",
              "    <button class=\"colab-df-convert\" onclick=\"convertToInteractive('df-7b2559c8-676a-4596-88b2-83dd008afbf2')\"\n",
              "            title=\"Convert this dataframe to an interactive table.\"\n",
              "            style=\"display:none;\">\n",
              "\n",
              "  <svg xmlns=\"http://www.w3.org/2000/svg\" height=\"24px\" viewBox=\"0 -960 960 960\">\n",
              "    <path d=\"M120-120v-720h720v720H120Zm60-500h600v-160H180v160Zm220 220h160v-160H400v160Zm0 220h160v-160H400v160ZM180-400h160v-160H180v160Zm440 0h160v-160H620v160ZM180-180h160v-160H180v160Zm440 0h160v-160H620v160Z\"/>\n",
              "  </svg>\n",
              "    </button>\n",
              "\n",
              "  <style>\n",
              "    .colab-df-container {\n",
              "      display:flex;\n",
              "      gap: 12px;\n",
              "    }\n",
              "\n",
              "    .colab-df-convert {\n",
              "      background-color: #E8F0FE;\n",
              "      border: none;\n",
              "      border-radius: 50%;\n",
              "      cursor: pointer;\n",
              "      display: none;\n",
              "      fill: #1967D2;\n",
              "      height: 32px;\n",
              "      padding: 0 0 0 0;\n",
              "      width: 32px;\n",
              "    }\n",
              "\n",
              "    .colab-df-convert:hover {\n",
              "      background-color: #E2EBFA;\n",
              "      box-shadow: 0px 1px 2px rgba(60, 64, 67, 0.3), 0px 1px 3px 1px rgba(60, 64, 67, 0.15);\n",
              "      fill: #174EA6;\n",
              "    }\n",
              "\n",
              "    .colab-df-buttons div {\n",
              "      margin-bottom: 4px;\n",
              "    }\n",
              "\n",
              "    [theme=dark] .colab-df-convert {\n",
              "      background-color: #3B4455;\n",
              "      fill: #D2E3FC;\n",
              "    }\n",
              "\n",
              "    [theme=dark] .colab-df-convert:hover {\n",
              "      background-color: #434B5C;\n",
              "      box-shadow: 0px 1px 3px 1px rgba(0, 0, 0, 0.15);\n",
              "      filter: drop-shadow(0px 1px 2px rgba(0, 0, 0, 0.3));\n",
              "      fill: #FFFFFF;\n",
              "    }\n",
              "  </style>\n",
              "\n",
              "    <script>\n",
              "      const buttonEl =\n",
              "        document.querySelector('#df-7b2559c8-676a-4596-88b2-83dd008afbf2 button.colab-df-convert');\n",
              "      buttonEl.style.display =\n",
              "        google.colab.kernel.accessAllowed ? 'block' : 'none';\n",
              "\n",
              "      async function convertToInteractive(key) {\n",
              "        const element = document.querySelector('#df-7b2559c8-676a-4596-88b2-83dd008afbf2');\n",
              "        const dataTable =\n",
              "          await google.colab.kernel.invokeFunction('convertToInteractive',\n",
              "                                                    [key], {});\n",
              "        if (!dataTable) return;\n",
              "\n",
              "        const docLinkHtml = 'Like what you see? Visit the ' +\n",
              "          '<a target=\"_blank\" href=https://colab.research.google.com/notebooks/data_table.ipynb>data table notebook</a>'\n",
              "          + ' to learn more about interactive tables.';\n",
              "        element.innerHTML = '';\n",
              "        dataTable['output_type'] = 'display_data';\n",
              "        await google.colab.output.renderOutput(dataTable, element);\n",
              "        const docLink = document.createElement('div');\n",
              "        docLink.innerHTML = docLinkHtml;\n",
              "        element.appendChild(docLink);\n",
              "      }\n",
              "    </script>\n",
              "  </div>\n",
              "\n",
              "\n",
              "<div id=\"df-06e5b5d5-1d65-40d9-89bd-35eccf9177ec\">\n",
              "  <button class=\"colab-df-quickchart\" onclick=\"quickchart('df-06e5b5d5-1d65-40d9-89bd-35eccf9177ec')\"\n",
              "            title=\"Suggest charts\"\n",
              "            style=\"display:none;\">\n",
              "\n",
              "<svg xmlns=\"http://www.w3.org/2000/svg\" height=\"24px\"viewBox=\"0 0 24 24\"\n",
              "     width=\"24px\">\n",
              "    <g>\n",
              "        <path d=\"M19 3H5c-1.1 0-2 .9-2 2v14c0 1.1.9 2 2 2h14c1.1 0 2-.9 2-2V5c0-1.1-.9-2-2-2zM9 17H7v-7h2v7zm4 0h-2V7h2v10zm4 0h-2v-4h2v4z\"/>\n",
              "    </g>\n",
              "</svg>\n",
              "  </button>\n",
              "\n",
              "<style>\n",
              "  .colab-df-quickchart {\n",
              "      --bg-color: #E8F0FE;\n",
              "      --fill-color: #1967D2;\n",
              "      --hover-bg-color: #E2EBFA;\n",
              "      --hover-fill-color: #174EA6;\n",
              "      --disabled-fill-color: #AAA;\n",
              "      --disabled-bg-color: #DDD;\n",
              "  }\n",
              "\n",
              "  [theme=dark] .colab-df-quickchart {\n",
              "      --bg-color: #3B4455;\n",
              "      --fill-color: #D2E3FC;\n",
              "      --hover-bg-color: #434B5C;\n",
              "      --hover-fill-color: #FFFFFF;\n",
              "      --disabled-bg-color: #3B4455;\n",
              "      --disabled-fill-color: #666;\n",
              "  }\n",
              "\n",
              "  .colab-df-quickchart {\n",
              "    background-color: var(--bg-color);\n",
              "    border: none;\n",
              "    border-radius: 50%;\n",
              "    cursor: pointer;\n",
              "    display: none;\n",
              "    fill: var(--fill-color);\n",
              "    height: 32px;\n",
              "    padding: 0;\n",
              "    width: 32px;\n",
              "  }\n",
              "\n",
              "  .colab-df-quickchart:hover {\n",
              "    background-color: var(--hover-bg-color);\n",
              "    box-shadow: 0 1px 2px rgba(60, 64, 67, 0.3), 0 1px 3px 1px rgba(60, 64, 67, 0.15);\n",
              "    fill: var(--button-hover-fill-color);\n",
              "  }\n",
              "\n",
              "  .colab-df-quickchart-complete:disabled,\n",
              "  .colab-df-quickchart-complete:disabled:hover {\n",
              "    background-color: var(--disabled-bg-color);\n",
              "    fill: var(--disabled-fill-color);\n",
              "    box-shadow: none;\n",
              "  }\n",
              "\n",
              "  .colab-df-spinner {\n",
              "    border: 2px solid var(--fill-color);\n",
              "    border-color: transparent;\n",
              "    border-bottom-color: var(--fill-color);\n",
              "    animation:\n",
              "      spin 1s steps(1) infinite;\n",
              "  }\n",
              "\n",
              "  @keyframes spin {\n",
              "    0% {\n",
              "      border-color: transparent;\n",
              "      border-bottom-color: var(--fill-color);\n",
              "      border-left-color: var(--fill-color);\n",
              "    }\n",
              "    20% {\n",
              "      border-color: transparent;\n",
              "      border-left-color: var(--fill-color);\n",
              "      border-top-color: var(--fill-color);\n",
              "    }\n",
              "    30% {\n",
              "      border-color: transparent;\n",
              "      border-left-color: var(--fill-color);\n",
              "      border-top-color: var(--fill-color);\n",
              "      border-right-color: var(--fill-color);\n",
              "    }\n",
              "    40% {\n",
              "      border-color: transparent;\n",
              "      border-right-color: var(--fill-color);\n",
              "      border-top-color: var(--fill-color);\n",
              "    }\n",
              "    60% {\n",
              "      border-color: transparent;\n",
              "      border-right-color: var(--fill-color);\n",
              "    }\n",
              "    80% {\n",
              "      border-color: transparent;\n",
              "      border-right-color: var(--fill-color);\n",
              "      border-bottom-color: var(--fill-color);\n",
              "    }\n",
              "    90% {\n",
              "      border-color: transparent;\n",
              "      border-bottom-color: var(--fill-color);\n",
              "    }\n",
              "  }\n",
              "</style>\n",
              "\n",
              "  <script>\n",
              "    async function quickchart(key) {\n",
              "      const quickchartButtonEl =\n",
              "        document.querySelector('#' + key + ' button');\n",
              "      quickchartButtonEl.disabled = true;  // To prevent multiple clicks.\n",
              "      quickchartButtonEl.classList.add('colab-df-spinner');\n",
              "      try {\n",
              "        const charts = await google.colab.kernel.invokeFunction(\n",
              "            'suggestCharts', [key], {});\n",
              "      } catch (error) {\n",
              "        console.error('Error during call to suggestCharts:', error);\n",
              "      }\n",
              "      quickchartButtonEl.classList.remove('colab-df-spinner');\n",
              "      quickchartButtonEl.classList.add('colab-df-quickchart-complete');\n",
              "    }\n",
              "    (() => {\n",
              "      let quickchartButtonEl =\n",
              "        document.querySelector('#df-06e5b5d5-1d65-40d9-89bd-35eccf9177ec button');\n",
              "      quickchartButtonEl.style.display =\n",
              "        google.colab.kernel.accessAllowed ? 'block' : 'none';\n",
              "    })();\n",
              "  </script>\n",
              "</div>\n",
              "    </div>\n",
              "  </div>\n"
            ]
          },
          "metadata": {},
          "execution_count": 27
        }
      ]
    },
    {
      "cell_type": "code",
      "source": [
        "a[\"Age\"]=a[\"Age\"].fillna(0)\n",
        "a[\"Cabin\"]=a[\"Cabin\"].fillna(0)\n",
        "\n",
        "\n"
      ],
      "metadata": {
        "id": "WtPwFqAKqEDF"
      },
      "execution_count": null,
      "outputs": []
    },
    {
      "cell_type": "code",
      "source": [
        "print(\"***********************LABEL ENCODING************************************\")\n",
        "from sklearn import preprocessing\n",
        "s=preprocessing.LabelEncoder()\n",
        "a[\"Sex\"]=s.fit_transform(a[\"Sex\"])\n",
        "a[\"Embarked\"]=s.fit_transform(a[\"Embarked\"])\n",
        "a[\"Name\"]=s.fit_transform(a[\"Name\"])\n",
        "\n",
        "a[\"Ticket\"]=s.fit_transform(a[\"Ticket\"])\n",
        "a[\"Ticket\"].unique()\n",
        "\n",
        "a[\"Name\"].unique()\n",
        "a[\"Sex\"].unique()\n",
        "a[\"Embarked\"].unique()\n",
        "\n"
      ],
      "metadata": {
        "colab": {
          "base_uri": "https://localhost:8080/"
        },
        "id": "JvC58QxhmnOm",
        "outputId": "b6eac681-99f4-4172-9e83-d0dd9b3d3fbd"
      },
      "execution_count": null,
      "outputs": [
        {
          "output_type": "stream",
          "name": "stdout",
          "text": [
            "***********************LABEL ENCODING************************************\n"
          ]
        },
        {
          "output_type": "execute_result",
          "data": {
            "text/plain": [
              "array([1, 2, 0])"
            ]
          },
          "metadata": {},
          "execution_count": 32
        }
      ]
    },
    {
      "cell_type": "code",
      "source": [
        "print(\"*********************************DATA SPLITTING*********************************\")\n",
        "print(\"*************X VALUE********************\")\n",
        "x=a.iloc[:,:-1]\n",
        "print(x)"
      ],
      "metadata": {
        "colab": {
          "base_uri": "https://localhost:8080/"
        },
        "id": "Ouu-swI0nN-9",
        "outputId": "f21d70a2-8ca7-447c-b36c-890f8f9f9ec2"
      },
      "execution_count": null,
      "outputs": [
        {
          "output_type": "stream",
          "name": "stdout",
          "text": [
            "*********************************DATA SPLITTING*********************************\n",
            "*************X VALUE********************\n",
            "     PassengerId  Pclass  Name  Sex   Age  SibSp  Parch  Ticket      Fare  \\\n",
            "0            892       3   206    1  34.5      0      0     152    7.8292   \n",
            "1            893       3   403    0  47.0      1      0     221    7.0000   \n",
            "2            894       2   269    1  62.0      0      0      73    9.6875   \n",
            "3            895       3   408    1  27.0      0      0     147    8.6625   \n",
            "4            896       3   178    0  22.0      1      1     138   12.2875   \n",
            "..           ...     ...   ...  ...   ...    ...    ...     ...       ...   \n",
            "413         1305       3   353    1   0.0      0      0     267    8.0500   \n",
            "414         1306       1   283    0  39.0      0      0     324  108.9000   \n",
            "415         1307       3   332    1  38.5      0      0     346    7.2500   \n",
            "416         1308       3   384    1   0.0      0      0     220    8.0500   \n",
            "417         1309       3   302    1   0.0      1      1     105   22.3583   \n",
            "\n",
            "    Cabin  Embarked  \n",
            "0       0         1  \n",
            "1       0         2  \n",
            "2       0         1  \n",
            "3       0         2  \n",
            "4       0         2  \n",
            "..    ...       ...  \n",
            "413     0         2  \n",
            "414  C105         0  \n",
            "415     0         2  \n",
            "416     0         2  \n",
            "417     0         0  \n",
            "\n",
            "[418 rows x 11 columns]\n"
          ]
        }
      ]
    },
    {
      "cell_type": "code",
      "source": [
        "print(\"******************Y VALUE***********************************\")\n",
        "y=a[\"Survived\"]\n",
        "print(y)"
      ],
      "metadata": {
        "colab": {
          "base_uri": "https://localhost:8080/"
        },
        "id": "GDBvOxmJnZ5F",
        "outputId": "a5b6e9db-34ba-49c6-c7f0-8e6ceee0b977"
      },
      "execution_count": null,
      "outputs": [
        {
          "output_type": "stream",
          "name": "stdout",
          "text": [
            "******************Y VALUE***********************************\n",
            "0      0\n",
            "1      1\n",
            "2      0\n",
            "3      0\n",
            "4      1\n",
            "      ..\n",
            "413    0\n",
            "414    1\n",
            "415    0\n",
            "416    0\n",
            "417    0\n",
            "Name: Survived, Length: 418, dtype: int64\n"
          ]
        }
      ]
    },
    {
      "cell_type": "code",
      "source": [
        "print(\"********************************DATA CLASSIFICATION*****************************\")\n",
        "print(\"*********************************X TRAIN*****************************\")\n",
        "from sklearn.model_selection import train_test_split\n",
        "x_train,x_test,y_train,y_test=train_test_split(x,y,test_size=0.20,shuffle=True)\n",
        "print(x_train)\n"
      ],
      "metadata": {
        "colab": {
          "base_uri": "https://localhost:8080/"
        },
        "id": "YZaAnZ42nmzt",
        "outputId": "19ea23f4-12ca-40f4-dfcb-c24b128d544e"
      },
      "execution_count": null,
      "outputs": [
        {
          "output_type": "stream",
          "name": "stdout",
          "text": [
            "********************************DATA CLASSIFICATION*****************************\n",
            "*********************************X TRAIN*****************************\n",
            "     PassengerId  Pclass  Name  Sex    Age  SibSp  Parch  Ticket     Fare  \\\n",
            "209         1101       3   110    1  25.00      0      0     202   7.8958   \n",
            "145         1037       3   379    1  31.00      3      0     171  18.0000   \n",
            "86           978       3    27    0  27.00      0      0     150   7.8792   \n",
            "4            896       3   178    0  22.00      1      1     138  12.2875   \n",
            "295         1187       3    12    1  26.00      0      0     193   7.8958   \n",
            "..           ...     ...   ...  ...    ...    ...    ...     ...      ...   \n",
            "151         1043       3   250    1   0.00      0      0     203   7.8958   \n",
            "364         1256       1   167    0  25.00      1      0      25  55.4417   \n",
            "157         1049       3   237    0  23.00      0      0     189   7.8542   \n",
            "41           933       1   148    1   0.00      0      0      16  26.5500   \n",
            "250         1142       2   395    0   0.92      1      2     289  27.7500   \n",
            "\n",
            "    Cabin  Embarked  \n",
            "209     0         2  \n",
            "145     0         2  \n",
            "86      0         1  \n",
            "4       0         2  \n",
            "295     0         2  \n",
            "..    ...       ...  \n",
            "151     0         0  \n",
            "364   E50         0  \n",
            "157     0         2  \n",
            "41    D34         2  \n",
            "250     0         2  \n",
            "\n",
            "[334 rows x 11 columns]\n"
          ]
        }
      ]
    },
    {
      "cell_type": "code",
      "source": [
        "print(\"***********************X TEST********************\")\n",
        "print(x_test)"
      ],
      "metadata": {
        "colab": {
          "base_uri": "https://localhost:8080/"
        },
        "id": "-VhmaQW5ntTT",
        "outputId": "ef573ee8-fecf-40d2-98c3-4980a6b611c0"
      },
      "execution_count": null,
      "outputs": [
        {
          "output_type": "stream",
          "name": "stdout",
          "text": [
            "***********************X TEST********************\n",
            "     PassengerId  Pclass  Name  Sex   Age  SibSp  Parch  Ticket     Fare  \\\n",
            "210         1102       3     8    1  32.0      0      0     278  22.5250   \n",
            "231         1123       1   404    0  21.0      0      0      21  26.5500   \n",
            "312         1204       3   331    1   0.0      0      0     302   7.5750   \n",
            "245         1137       1   208    1  41.0      1      0      42  51.8625   \n",
            "373         1265       2   166    1  44.0      0      0      86  13.0000   \n",
            "..           ...     ...   ...  ...   ...    ...    ...     ...      ...   \n",
            "37           929       3    55    0  21.0      0      0     141   8.6625   \n",
            "225         1117       3   266    0   0.0      0      2     103  15.2458   \n",
            "32           924       3   109    0  33.0      1      2     280  20.5750   \n",
            "140         1032       3   159    0  10.0      5      2     294  46.9000   \n",
            "351         1243       2   361    1  25.0      0      0     301  10.5000   \n",
            "\n",
            "    Cabin  Embarked  \n",
            "210     0         2  \n",
            "231     0         2  \n",
            "312     0         2  \n",
            "245   D21         2  \n",
            "373     0         2  \n",
            "..    ...       ...  \n",
            "37      0         2  \n",
            "225     0         0  \n",
            "32      0         2  \n",
            "140     0         2  \n",
            "351     0         2  \n",
            "\n",
            "[84 rows x 11 columns]\n"
          ]
        }
      ]
    },
    {
      "cell_type": "code",
      "source": [
        "print(\"**************************DATA VISUALIZATION*************************\")\n",
        "from matplotlib import pyplot as plt\n",
        "print(\"*********************LINE PLOT****************\")\n",
        "plt.plot(a[\"Sex\"],a[\"Survived\"])"
      ],
      "metadata": {
        "colab": {
          "base_uri": "https://localhost:8080/",
          "height": 482
        },
        "id": "J-J-AfGxs60P",
        "outputId": "be05e418-3393-4c62-e601-71d46e578bd3"
      },
      "execution_count": null,
      "outputs": [
        {
          "output_type": "stream",
          "name": "stdout",
          "text": [
            "**************************DATA VISUALIZATION*************************\n",
            "*********************LINE PLOT****************\n"
          ]
        },
        {
          "output_type": "execute_result",
          "data": {
            "text/plain": [
              "[<matplotlib.lines.Line2D at 0x788f50170d60>]"
            ]
          },
          "metadata": {},
          "execution_count": 41
        },
        {
          "output_type": "display_data",
          "data": {
            "text/plain": [
              "<Figure size 640x480 with 1 Axes>"
            ],
            "image/png": "[encoded data removed]"
          },
          "metadata": {}
        }
      ]
    },
    {
      "cell_type": "code",
      "source": [
        "print(\"**********************BAR PLOT*******************************\")\n",
        "plt.bar(a[\"Sex\"],a[\"Survived\"])"
      ],
      "metadata": {
        "colab": {
          "base_uri": "https://localhost:8080/",
          "height": 465
        },
        "id": "t79Sv9LRuAZP",
        "outputId": "5514e5dd-f91f-4c88-e899-8a412f7f3c4d"
      },
      "execution_count": null,
      "outputs": [
        {
          "output_type": "stream",
          "name": "stdout",
          "text": [
            "**********************BAR PLOT*******************************\n"
          ]
        },
        {
          "output_type": "execute_result",
          "data": {
            "text/plain": [
              "<BarContainer object of 418 artists>"
            ]
          },
          "metadata": {},
          "execution_count": 42
        },
        {
          "output_type": "display_data",
          "data": {
            "text/plain": [
              "<Figure size 640x480 with 1 Axes>"
            ],
            "image/png": "[encoded data removed]"
          },
          "metadata": {}
        }
      ]
    },
    {
      "cell_type": "code",
      "source": [
        "print(\"*****************************HISTOGRAM*************************\")\n",
        "plt.hist(a[\"Survived\"])"
      ],
      "metadata": {
        "colab": {
          "base_uri": "https://localhost:8080/",
          "height": 499
        },
        "id": "KTaPUK6luNjE",
        "outputId": "7d46aa8c-5c36-4ddb-9e27-e90916835c0b"
      },
      "execution_count": null,
      "outputs": [
        {
          "output_type": "stream",
          "name": "stdout",
          "text": [
            "*****************************HISTOGRAM*************************\n"
          ]
        },
        {
          "output_type": "execute_result",
          "data": {
            "text/plain": [
              "(array([266.,   0.,   0.,   0.,   0.,   0.,   0.,   0.,   0., 152.]),\n",
              " array([0. , 0.1, 0.2, 0.3, 0.4, 0.5, 0.6, 0.7, 0.8, 0.9, 1. ]),\n",
              " <BarContainer object of 10 artists>)"
            ]
          },
          "metadata": {},
          "execution_count": 43
        },
        {
          "output_type": "display_data",
          "data": {
            "text/plain": [
              "<Figure size 640x480 with 1 Axes>"
            ],
            "image/png": "[encoded data removed]"
          },
          "metadata": {}
        }
      ]
    },
    {
      "cell_type": "code",
      "source": [
        "print(\"****************BAR PLOT*****************888888\")\n",
        "import seaborn as gd\n",
        "gd.barplot(x=\"Sex\",y=\"Survived\",data=a)\n"
      ],
      "metadata": {
        "colab": {
          "base_uri": "https://localhost:8080/",
          "height": 484
        },
        "id": "FJP9fsLnuUSt",
        "outputId": "55ed2ee9-3388-4bc4-c707-22754dd3ffcc"
      },
      "execution_count": null,
      "outputs": [
        {
          "output_type": "stream",
          "name": "stdout",
          "text": [
            "****************BAR PLOT*****************888888\n"
          ]
        },
        {
          "output_type": "execute_result",
          "data": {
            "text/plain": [
              "<Axes: xlabel='Sex', ylabel='Survived'>"
            ]
          },
          "metadata": {},
          "execution_count": 44
        },
        {
          "output_type": "display_data",
          "data": {
            "text/plain": [
              "<Figure size 640x480 with 1 Axes>"
            ],
            "image/png": "[encoded data removed]"
          },
          "metadata": {}
        }
      ]
    },
    {
      "cell_type": "code",
      "source": [
        "print(\"**************BOXPLOT**********************\")\n",
        "import seaborn as gd\n",
        "gd.boxplot(x=\"Embarked\",y=\"Survived\",data=a)\n"
      ],
      "metadata": {
        "colab": {
          "base_uri": "https://localhost:8080/",
          "height": 484
        },
        "id": "TPdT0RHLud8e",
        "outputId": "314d7492-ba2a-4c90-96ce-d531800e8eb3"
      },
      "execution_count": null,
      "outputs": [
        {
          "output_type": "stream",
          "name": "stdout",
          "text": [
            "**************BOXPLOT**********************\n"
          ]
        },
        {
          "output_type": "execute_result",
          "data": {
            "text/plain": [
              "<Axes: xlabel='Embarked', ylabel='Survived'>"
            ]
          },
          "metadata": {},
          "execution_count": 45
        },
        {
          "output_type": "display_data",
          "data": {
            "text/plain": [
              "<Figure size 640x480 with 1 Axes>"
            ],
            "image/png": "[encoded data removed]"
          },
          "metadata": {}
        }
      ]
    },
    {
      "cell_type": "code",
      "source": [
        "print(\"****************************lmplot**********************\")\n",
        "import seaborn as gd\n",
        "gd.lmplot(x=\"Embarked\",y=\"Survived\",data=a)"
      ],
      "metadata": {
        "colab": {
          "base_uri": "https://localhost:8080/",
          "height": 541
        },
        "id": "e1xtcYh4urao",
        "outputId": "924c07d2-9981-4b1b-d90b-454266238b2f"
      },
      "execution_count": null,
      "outputs": [
        {
          "output_type": "stream",
          "name": "stdout",
          "text": [
            "****************************lmplot**********************\n"
          ]
        },
        {
          "output_type": "execute_result",
          "data": {
            "text/plain": [
              "<seaborn.axisgrid.FacetGrid at 0x788f501c1c30>"
            ]
          },
          "metadata": {},
          "execution_count": 46
        },
        {
          "output_type": "display_data",
          "data": {
            "text/plain": [
              "<Figure size 500x500 with 1 Axes>"
            ],
            "image/png": "[encoded data removed]"
          },
          "metadata": {}
        }
      ]
    },
    {
      "cell_type": "code",
      "source": [
        "print(\"***************************************DISTPLOT******************\")\n",
        "import seaborn as gd\n",
        "gd.distplot(a.Survived)"
      ],
      "metadata": {
        "colab": {
          "base_uri": "https://localhost:8080/",
          "height": 675
        },
        "id": "HSXXlEq-u0zk",
        "outputId": "27d701be-ac92-4d3b-dd7a-a28730477a6f"
      },
      "execution_count": null,
      "outputs": [
        {
          "output_type": "stream",
          "name": "stdout",
          "text": [
            "***************************************DISTPLOT******************\n"
          ]
        },
        {
          "output_type": "stream",
          "name": "stderr",
          "text": [
            "<ipython-input-47-0cd1a9489a02>:3: UserWarning: \n",
            "\n",
            "`distplot` is a deprecated function and will be removed in seaborn v0.14.0.\n",
            "\n",
            "Please adapt your code to use either `displot` (a figure-level function with\n",
            "similar flexibility) or `histplot` (an axes-level function for histograms).\n",
            "\n",
            "For a guide to updating your code to use the new functions, please see\n",
            "https://gist.github.com/mwaskom/de44147ed2974457ad6372750bbe5751\n",
            "\n",
            "  gd.distplot(a.Survived)\n"
          ]
        },
        {
          "output_type": "execute_result",
          "data": {
            "text/plain": [
              "<Axes: xlabel='Survived', ylabel='Density'>"
            ]
          },
          "metadata": {},
          "execution_count": 47
        },
        {
          "output_type": "display_data",
          "data": {
            "text/plain": [
              "<Figure size 640x480 with 1 Axes>"
            ],
            "image/png": "[encoded data removed]"
          },
          "metadata": {}
        }
      ]
    }
  ]
}